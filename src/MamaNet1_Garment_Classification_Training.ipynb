{
  "nbformat": 4,
  "nbformat_minor": 0,
  "metadata": {
    "colab": {
      "provenance": [],
      "gpuType": "V28"
    },
    "kernelspec": {
      "name": "python3",
      "display_name": "Python 3"
    },
    "language_info": {
      "name": "python"
    },
    "accelerator": "TPU"
  },
  "cells": [
    {
      "cell_type": "code",
      "source": [
        "# Simple Fashion Classifier via using MNIST and MamaNet1 (Garment Classification)\n",
        "\"\"\"\n",
        "This module is developed by Suanfamama.\n",
        "\n",
        "Authors:\n",
        "- Wei Jiang (wei@suanfamama.com)\n",
        "- Mama Xiao (mama.xiao@suanfamama.com)\n",
        "\n",
        "Reference:\n",
        "- Training with PyTorch\n",
        "- https://pytorch.org/tutorials/beginner/introyt/trainingyt.html?highlight=nn%20crossentropyloss\n",
        "\"\"\""
      ],
      "metadata": {
        "colab": {
          "base_uri": "https://localhost:8080/",
          "height": 53
        },
        "id": "Gi4yEmZG8YXw",
        "outputId": "007fb25e-7476-4ca2-be7f-5a86d31c2aa9"
      },
      "execution_count": 1,
      "outputs": [
        {
          "output_type": "execute_result",
          "data": {
            "text/plain": [
              "'\\nThis module is developed by Suanfamama.\\n\\nAuthors:\\n- Wei Jiang (wei@suanfamama.com)\\n- Mama Xiao (mama.xiao@suanfamama.com)\\n\\nReference:\\n- Training with PyTorch\\n- https://pytorch.org/tutorials/beginner/introyt/trainingyt.html?highlight=nn%20crossentropyloss\\n'"
            ],
            "application/vnd.google.colaboratory.intrinsic+json": {
              "type": "string"
            }
          },
          "metadata": {},
          "execution_count": 1
        }
      ]
    },
    {
      "cell_type": "code",
      "source": [
        "import torch\n",
        "import torchvision\n",
        "import torchvision.transforms as transforms\n",
        "\n",
        "# PyTorch TensorBoard support\n",
        "from torch.utils.tensorboard import SummaryWriter\n",
        "from datetime import datetime\n",
        "\n",
        "transform = transforms.Compose(\n",
        "    [transforms.ToTensor(),\n",
        "    transforms.Normalize((0.5,), (0.5,))])\n",
        "\n",
        "# Create datasets for training & validation, download if necessary\n",
        "training_set = torchvision.datasets.FashionMNIST('./data', train=True, transform=transform, download=True)\n",
        "validation_set = torchvision.datasets.FashionMNIST('./data', train=False, transform=transform, download=True)\n",
        "\n",
        "# Create data loaders for our datasets; shuffle for training, not for validation\n",
        "training_loader = torch.utils.data.DataLoader(training_set, batch_size=4, shuffle=True)\n",
        "validation_loader = torch.utils.data.DataLoader(validation_set, batch_size=4, shuffle=False)\n",
        "\n",
        "# Class labels\n",
        "classes = ('T-shirt', 'Trouser裤子', 'Pullover套衫', 'Dress裙子', 'Coat大衣',\n",
        "        'Sandal拖鞋', 'Shirt衬衫', 'Sneaker运动鞋', 'Bag包', 'Ankle Boot靴子')\n",
        "\n",
        "# Report split sizes\n",
        "print('Training set has {} instances'.format(len(training_set)))\n",
        "print('Validation set has {} instances'.format(len(validation_set)))"
      ],
      "metadata": {
        "colab": {
          "base_uri": "https://localhost:8080/"
        },
        "id": "gwjw7gtl8eO6",
        "outputId": "a660c6c7-5075-482b-c944-3d344a61a6db"
      },
      "execution_count": 2,
      "outputs": [
        {
          "output_type": "stream",
          "name": "stdout",
          "text": [
            "Downloading http://fashion-mnist.s3-website.eu-central-1.amazonaws.com/train-images-idx3-ubyte.gz\n",
            "Downloading http://fashion-mnist.s3-website.eu-central-1.amazonaws.com/train-images-idx3-ubyte.gz to ./data/FashionMNIST/raw/train-images-idx3-ubyte.gz\n"
          ]
        },
        {
          "output_type": "stream",
          "name": "stderr",
          "text": [
            "100%|██████████| 26421880/26421880 [00:01<00:00, 13321314.05it/s]\n"
          ]
        },
        {
          "output_type": "stream",
          "name": "stdout",
          "text": [
            "Extracting ./data/FashionMNIST/raw/train-images-idx3-ubyte.gz to ./data/FashionMNIST/raw\n",
            "\n",
            "Downloading http://fashion-mnist.s3-website.eu-central-1.amazonaws.com/train-labels-idx1-ubyte.gz\n",
            "Downloading http://fashion-mnist.s3-website.eu-central-1.amazonaws.com/train-labels-idx1-ubyte.gz to ./data/FashionMNIST/raw/train-labels-idx1-ubyte.gz\n"
          ]
        },
        {
          "output_type": "stream",
          "name": "stderr",
          "text": [
            "100%|██████████| 29515/29515 [00:00<00:00, 263377.68it/s]\n"
          ]
        },
        {
          "output_type": "stream",
          "name": "stdout",
          "text": [
            "Extracting ./data/FashionMNIST/raw/train-labels-idx1-ubyte.gz to ./data/FashionMNIST/raw\n",
            "\n",
            "Downloading http://fashion-mnist.s3-website.eu-central-1.amazonaws.com/t10k-images-idx3-ubyte.gz\n",
            "Downloading http://fashion-mnist.s3-website.eu-central-1.amazonaws.com/t10k-images-idx3-ubyte.gz to ./data/FashionMNIST/raw/t10k-images-idx3-ubyte.gz\n"
          ]
        },
        {
          "output_type": "stream",
          "name": "stderr",
          "text": [
            "100%|██████████| 4422102/4422102 [00:00<00:00, 4953209.61it/s]\n"
          ]
        },
        {
          "output_type": "stream",
          "name": "stdout",
          "text": [
            "Extracting ./data/FashionMNIST/raw/t10k-images-idx3-ubyte.gz to ./data/FashionMNIST/raw\n",
            "\n",
            "Downloading http://fashion-mnist.s3-website.eu-central-1.amazonaws.com/t10k-labels-idx1-ubyte.gz\n",
            "Downloading http://fashion-mnist.s3-website.eu-central-1.amazonaws.com/t10k-labels-idx1-ubyte.gz to ./data/FashionMNIST/raw/t10k-labels-idx1-ubyte.gz\n"
          ]
        },
        {
          "output_type": "stream",
          "name": "stderr",
          "text": [
            "100%|██████████| 5148/5148 [00:00<00:00, 9400207.66it/s]"
          ]
        },
        {
          "output_type": "stream",
          "name": "stdout",
          "text": [
            "Extracting ./data/FashionMNIST/raw/t10k-labels-idx1-ubyte.gz to ./data/FashionMNIST/raw\n",
            "\n",
            "Training set has 60000 instances\n",
            "Validation set has 10000 instances\n"
          ]
        },
        {
          "output_type": "stream",
          "name": "stderr",
          "text": [
            "\n"
          ]
        }
      ]
    },
    {
      "cell_type": "code",
      "source": [
        "import matplotlib.pyplot as plt\n",
        "import numpy as np\n",
        "\n",
        "# Helper function for inline image display\n",
        "def matplotlib_imshow(img, one_channel=False):\n",
        "    if one_channel:\n",
        "        img = img.mean(dim=0)\n",
        "    img = img / 2 + 0.5     # unnormalize\n",
        "    npimg = img.numpy()\n",
        "    if one_channel:\n",
        "        plt.imshow(npimg, cmap=\"Greys\")\n",
        "    else:\n",
        "        plt.imshow(np.transpose(npimg, (1, 2, 0)))\n",
        "\n",
        "dataiter = iter(training_loader)\n",
        "images, labels = next(dataiter)\n",
        "\n",
        "# Create a grid from the images and show them\n",
        "img_grid = torchvision.utils.make_grid(images)\n",
        "matplotlib_imshow(img_grid, one_channel=True)\n",
        "print('  '.join(classes[labels[j]] for j in range(4)))"
      ],
      "metadata": {
        "colab": {
          "base_uri": "https://localhost:8080/",
          "height": 212
        },
        "id": "agYn33aQ9SBe",
        "outputId": "42366dba-94e7-44d0-c153-02cc9b9cf682"
      },
      "execution_count": 3,
      "outputs": [
        {
          "output_type": "stream",
          "name": "stdout",
          "text": [
            "Sneaker运动鞋  Sneaker运动鞋  Sandal拖鞋  T-shirt\n"
          ]
        },
        {
          "output_type": "display_data",
          "data": {
            "text/plain": [
              "<Figure size 640x480 with 1 Axes>"
            ],
            "image/png": "[encoded data removed]"
          },
          "metadata": {}
        }
      ]
    },
    {
      "cell_type": "code",
      "source": [
        "import torch.nn as nn\n",
        "import torch.nn.functional as F\n",
        "\n",
        "# PyTorch models inherit from torch.nn.Module\n",
        "class MamaNet1(nn.Module):\n",
        "    def __init__(self):\n",
        "        super(MamaNet1, self).__init__()\n",
        "        self.conv1 = nn.Conv2d(1, 6, 5)\n",
        "        self.pool = nn.MaxPool2d(2, 2)\n",
        "        self.conv2 = nn.Conv2d(6, 16, 5)\n",
        "        self.fc1 = nn.Linear(16 * 4 * 4, 120)\n",
        "        self.fc2 = nn.Linear(120, 84)\n",
        "        self.fc3 = nn.Linear(84, 10)\n",
        "\n",
        "    def forward(self, x):\n",
        "        x = self.pool(F.relu(self.conv1(x)))\n",
        "        x = self.pool(F.relu(self.conv2(x)))\n",
        "        x = x.view(-1, 16 * 4 * 4)\n",
        "        x = F.relu(self.fc1(x))\n",
        "        x = F.relu(self.fc2(x))\n",
        "        x = self.fc3(x)\n",
        "        return x\n",
        "\n",
        "\n",
        "model = MamaNet1()"
      ],
      "metadata": {
        "id": "HXjzDwmn9WxR"
      },
      "execution_count": 4,
      "outputs": []
    },
    {
      "cell_type": "code",
      "source": [
        "loss_fn = torch.nn.CrossEntropyLoss()\n",
        "\n",
        "# NB: Loss functions expect data in batches, so we're creating batches of 4\n",
        "# Represents the model's confidence in each of the 10 classes for a given input\n",
        "dummy_outputs = torch.rand(4, 10)\n",
        "# Represents the correct class among the 10 being tested\n",
        "dummy_labels = torch.tensor([1, 5, 3, 7])\n",
        "\n",
        "print(dummy_outputs)\n",
        "print(dummy_labels)\n",
        "\n",
        "loss = loss_fn(dummy_outputs, dummy_labels)\n",
        "print('Total loss for this batch: {}'.format(loss.item()))"
      ],
      "metadata": {
        "colab": {
          "base_uri": "https://localhost:8080/"
        },
        "id": "Qm7DjON5_EC_",
        "outputId": "221217c4-0cca-4c76-bdd1-12c7e93b3a55"
      },
      "execution_count": 5,
      "outputs": [
        {
          "output_type": "stream",
          "name": "stdout",
          "text": [
            "tensor([[0.4230, 0.3972, 0.8051, 0.4679, 0.4382, 0.6822, 0.7099, 0.9884, 0.5833,\n",
            "         0.0608],\n",
            "        [0.6235, 0.9824, 0.4759, 0.6801, 0.7107, 0.1589, 0.6276, 0.2884, 0.7592,\n",
            "         0.6102],\n",
            "        [0.6150, 0.4114, 0.2811, 0.6157, 0.0556, 0.6120, 0.5074, 0.4930, 0.5088,\n",
            "         0.5147],\n",
            "        [0.4569, 0.2696, 0.2447, 0.9312, 0.3606, 0.7941, 0.4098, 0.6694, 0.0218,\n",
            "         0.6717]])\n",
            "tensor([1, 5, 3, 7])\n",
            "Total loss for this batch: 2.39064884185791\n"
          ]
        }
      ]
    },
    {
      "cell_type": "code",
      "source": [
        "# Optimizers specified in the torch.optim package\n",
        "optimizer = torch.optim.SGD(model.parameters(), lr=0.001, momentum=0.9)"
      ],
      "metadata": {
        "id": "7AQ4HP9qMkn5"
      },
      "execution_count": 8,
      "outputs": []
    },
    {
      "cell_type": "code",
      "source": [
        "def train_one_epoch(epoch_index, tb_writer):\n",
        "    running_loss = 0.\n",
        "    last_loss = 0.\n",
        "\n",
        "    # Here, we use enumerate(training_loader) instead of\n",
        "    # iter(training_loader) so that we can track the batch\n",
        "    # index and do some intra-epoch reporting\n",
        "    for i, data in enumerate(training_loader):\n",
        "        # Every data instance is an input + label pair\n",
        "        inputs, labels = data\n",
        "\n",
        "        # Zero your gradients for every batch!\n",
        "        optimizer.zero_grad()\n",
        "\n",
        "        # Make predictions for this batch\n",
        "        outputs = model(inputs)\n",
        "\n",
        "        # Compute the loss and its gradients\n",
        "        loss = loss_fn(outputs, labels)\n",
        "        loss.backward()\n",
        "\n",
        "        # Adjust learning weights\n",
        "        optimizer.step()\n",
        "\n",
        "        # Gather data and report\n",
        "        running_loss += loss.item()\n",
        "        if i % 1000 == 999:\n",
        "            last_loss = running_loss / 1000 # loss per batch\n",
        "            print('  batch {} loss: {}'.format(i + 1, last_loss))\n",
        "            tb_x = epoch_index * len(training_loader) + i + 1\n",
        "            tb_writer.add_scalar('Loss/train', last_loss, tb_x)\n",
        "            running_loss = 0.\n",
        "\n",
        "    return last_loss"
      ],
      "metadata": {
        "id": "EtVxA73P_Mgt"
      },
      "execution_count": 9,
      "outputs": []
    },
    {
      "cell_type": "code",
      "source": [
        "# Initializing in a separate cell so we can easily add more epochs to the same run\n",
        "timestamp = datetime.now().strftime('%Y%m%d_%H%M%S')\n",
        "writer = SummaryWriter('runs/fashion_trainer_{}'.format(timestamp))\n",
        "epoch_number = 0\n",
        "\n",
        "EPOCHS = 5\n",
        "\n",
        "best_vloss = 1_000_000.\n",
        "\n",
        "for epoch in range(EPOCHS):\n",
        "    print('EPOCH {}:'.format(epoch_number + 1))\n",
        "\n",
        "    # Make sure gradient tracking is on, and do a pass over the data\n",
        "    model.train(True)\n",
        "    avg_loss = train_one_epoch(epoch_number, writer)\n",
        "\n",
        "\n",
        "    running_vloss = 0.0\n",
        "    # Set the model to evaluation mode, disabling dropout and using population\n",
        "    # statistics for batch normalization.\n",
        "    model.eval()\n",
        "\n",
        "    # Disable gradient computation and reduce memory consumption.\n",
        "    with torch.no_grad():\n",
        "        for i, vdata in enumerate(validation_loader):\n",
        "            vinputs, vlabels = vdata\n",
        "            voutputs = model(vinputs)\n",
        "            vloss = loss_fn(voutputs, vlabels)\n",
        "            running_vloss += vloss\n",
        "\n",
        "    avg_vloss = running_vloss / (i + 1)\n",
        "    print('LOSS train {} valid {}'.format(avg_loss, avg_vloss))\n",
        "\n",
        "    # Log the running loss averaged per batch\n",
        "    # for both training and validation\n",
        "    writer.add_scalars('Training vs. Validation Loss',\n",
        "                    { 'Training' : avg_loss, 'Validation' : avg_vloss },\n",
        "                    epoch_number + 1)\n",
        "    writer.flush()\n",
        "\n",
        "    # Track best performance, and save the model's state\n",
        "    if avg_vloss < best_vloss:\n",
        "        best_vloss = avg_vloss\n",
        "        model_path = 'model_{}_{}'.format(timestamp, epoch_number)\n",
        "        torch.save(model.state_dict(), model_path)\n",
        "\n",
        "    epoch_number += 1"
      ],
      "metadata": {
        "colab": {
          "base_uri": "https://localhost:8080/"
        },
        "id": "agMI_VL4_R5m",
        "outputId": "03e6b5e4-0e21-450e-9b86-3fdd5271f837"
      },
      "execution_count": 10,
      "outputs": [
        {
          "output_type": "stream",
          "name": "stdout",
          "text": [
            "EPOCH 1:\n",
            "  batch 1000 loss: 1.9888854761421682\n",
            "  batch 2000 loss: 0.8654370718672871\n",
            "  batch 3000 loss: 0.7181394039057195\n",
            "  batch 4000 loss: 0.6422588613159024\n",
            "  batch 5000 loss: 0.5818008952420205\n",
            "  batch 6000 loss: 0.5630869365353137\n",
            "  batch 7000 loss: 0.5275045417854562\n",
            "  batch 8000 loss: 0.5414762285382021\n",
            "  batch 9000 loss: 0.4943688377077924\n",
            "  batch 10000 loss: 0.48740198504796717\n",
            "  batch 11000 loss: 0.4805944852523971\n",
            "  batch 12000 loss: 0.48267784214997667\n",
            "  batch 13000 loss: 0.4646663193977438\n",
            "  batch 14000 loss: 0.4641702099972754\n",
            "  batch 15000 loss: 0.4419606843144866\n",
            "LOSS train 0.4419606843144866 valid 0.4533537030220032\n",
            "EPOCH 2:\n",
            "  batch 1000 loss: 0.42158935276651754\n",
            "  batch 2000 loss: 0.4308954105418816\n",
            "  batch 3000 loss: 0.4230270767085603\n",
            "  batch 4000 loss: 0.40136889451633034\n",
            "  batch 5000 loss: 0.38238784450944513\n",
            "  batch 6000 loss: 0.3794457781177771\n",
            "  batch 7000 loss: 0.3819180873098085\n",
            "  batch 8000 loss: 0.3866566767649201\n",
            "  batch 9000 loss: 0.3755332744928892\n",
            "  batch 10000 loss: 0.3853783587960643\n",
            "  batch 11000 loss: 0.363581791146833\n",
            "  batch 12000 loss: 0.3815301448594546\n",
            "  batch 13000 loss: 0.37657861456839603\n",
            "  batch 14000 loss: 0.36051513500721194\n",
            "  batch 15000 loss: 0.3539280540325562\n",
            "LOSS train 0.3539280540325562 valid 0.3730196952819824\n",
            "EPOCH 3:\n",
            "  batch 1000 loss: 0.3490218162735109\n",
            "  batch 2000 loss: 0.34708378013677427\n",
            "  batch 3000 loss: 0.3296953024260583\n",
            "  batch 4000 loss: 0.3464817276641843\n",
            "  batch 5000 loss: 0.345063252807915\n",
            "  batch 6000 loss: 0.3274765219517285\n",
            "  batch 7000 loss: 0.35308345480106074\n",
            "  batch 8000 loss: 0.34015934788368757\n",
            "  batch 9000 loss: 0.33714922896305505\n",
            "  batch 10000 loss: 0.3500974868851772\n",
            "  batch 11000 loss: 0.32344355710083617\n",
            "  batch 12000 loss: 0.32594429801798835\n",
            "  batch 13000 loss: 0.32309842679333817\n",
            "  batch 14000 loss: 0.32291710285344744\n",
            "  batch 15000 loss: 0.31550057564646705\n",
            "LOSS train 0.31550057564646705 valid 0.3462551236152649\n",
            "EPOCH 4:\n",
            "  batch 1000 loss: 0.3044091924912136\n",
            "  batch 2000 loss: 0.31302951983692034\n",
            "  batch 3000 loss: 0.3123542067482558\n",
            "  batch 4000 loss: 0.3288146701244696\n",
            "  batch 5000 loss: 0.30156739041120456\n",
            "  batch 6000 loss: 0.3029241607268632\n",
            "  batch 7000 loss: 0.3002991531771331\n",
            "  batch 8000 loss: 0.3113521740137257\n",
            "  batch 9000 loss: 0.2963866313777362\n",
            "  batch 10000 loss: 0.3161587113275018\n",
            "  batch 11000 loss: 0.30916709808041926\n",
            "  batch 12000 loss: 0.31328975643334706\n",
            "  batch 13000 loss: 0.292770617438051\n",
            "  batch 14000 loss: 0.3048036268203359\n",
            "  batch 15000 loss: 0.2862416685759963\n",
            "LOSS train 0.2862416685759963 valid 0.333881676197052\n",
            "EPOCH 5:\n",
            "  batch 1000 loss: 0.2691183487101953\n",
            "  batch 2000 loss: 0.28410745124641107\n",
            "  batch 3000 loss: 0.2791398419654779\n",
            "  batch 4000 loss: 0.29022632184015673\n",
            "  batch 5000 loss: 0.2903739620410197\n",
            "  batch 6000 loss: 0.275281638867571\n",
            "  batch 7000 loss: 0.28841462705385496\n",
            "  batch 8000 loss: 0.28605624777878436\n",
            "  batch 9000 loss: 0.29533333386233424\n",
            "  batch 10000 loss: 0.2782030904714502\n",
            "  batch 11000 loss: 0.2890823800493381\n",
            "  batch 12000 loss: 0.28348025812237393\n",
            "  batch 13000 loss: 0.2881949903990139\n",
            "  batch 14000 loss: 0.27890832415394834\n",
            "  batch 15000 loss: 0.29517731850621204\n",
            "LOSS train 0.29517731850621204 valid 0.31702831387519836\n"
          ]
        }
      ]
    },
    {
      "cell_type": "code",
      "source": [
        "    # Save the model checkpoint\n",
        "    import os\n",
        "    model_save_dir = \"./\"  # Directory to save the models\n",
        "    model_path = os.path.join(model_save_dir, f'MamaNet1_Garment_Classification.pth')\n",
        "    torch.save(model.state_dict(), model_path)\n",
        "    print(f\"Model saved to {model_path}\")"
      ],
      "metadata": {
        "colab": {
          "base_uri": "https://localhost:8080/"
        },
        "id": "oweJ0koABEik",
        "outputId": "51f1e9ea-54c0-47f2-9014-0294f94c37ca"
      },
      "execution_count": 11,
      "outputs": [
        {
          "output_type": "stream",
          "name": "stdout",
          "text": [
            "Model saved to ./MamaNet1_Garment_Classification.pth\n"
          ]
        }
      ]
    },
    {
      "cell_type": "code",
      "source": [
        "# Load the FashionMNIST test dataset\n",
        "testset = torchvision.datasets.FashionMNIST('./data', train=False, transform=transform, download=True)\n",
        "\n",
        "# Create data loader for the test set\n",
        "testloader = torch.utils.data.DataLoader(testset, batch_size=1, shuffle=True)\n",
        "\n",
        "# Load the trained model\n",
        "model = MamaNet1()\n",
        "model_path = './MamaNet1_Garment_Classification.pth'  # Replace with the actual path to your saved model\n",
        "model.load_state_dict(torch.load(model_path))\n",
        "model.eval()\n",
        "\n",
        "# Define class labels\n",
        "classes = ('T-shirt', 'Trouser裤子', 'Pullover套衫', 'Dress裙子', 'Coat大衣',\n",
        "           'Sandal拖鞋', 'Shirt衬衫', 'Sneaker运动鞋', 'Bag包', 'Ankle Boot靴子')\n",
        "\n",
        "# Helper function for inline image display\n",
        "def matplotlib_imshow(img, one_channel=False):\n",
        "    if one_channel:\n",
        "        img = img.mean(dim=0)\n",
        "    img = img / 2 + 0.5     # unnormalize\n",
        "    npimg = img.numpy()\n",
        "    if one_channel:\n",
        "        plt.imshow(npimg, cmap=\"Greys\")\n",
        "    else:\n",
        "        plt.imshow(np.transpose(npimg, (1, 2, 0)))\n",
        "\n",
        "# Perform prediction on test data\n",
        "with torch.no_grad():\n",
        "    for i, data in enumerate(testloader, 0):\n",
        "        images, labels = data\n",
        "        outputs = model(images)\n",
        "        _, predicted = torch.max(outputs.data, 1)\n",
        "\n",
        "        # Display the image and predicted label\n",
        "        matplotlib_imshow(images[0], one_channel=True)\n",
        "        print(f'Predicted: {classes[predicted[0]]}, Actual: {classes[labels[0]]}')\n",
        "\n",
        "        if i == 5:  # Show only the first 5 predictions\n",
        "            break"
      ],
      "metadata": {
        "colab": {
          "base_uri": "https://localhost:8080/",
          "height": 537
        },
        "id": "VOHXaPUMEqmv",
        "outputId": "59a06edc-885c-4a96-a940-736ad77f40ab"
      },
      "execution_count": 31,
      "outputs": [
        {
          "output_type": "stream",
          "name": "stdout",
          "text": [
            "Predicted: T-shirt, Actual: T-shirt\n",
            "Predicted: Sneaker运动鞋, Actual: Sneaker运动鞋\n",
            "Predicted: Dress裙子, Actual: Dress裙子\n",
            "Predicted: Coat大衣, Actual: Coat大衣\n",
            "Predicted: Dress裙子, Actual: Dress裙子\n",
            "Predicted: Coat大衣, Actual: Coat大衣\n"
          ]
        },
        {
          "output_type": "display_data",
          "data": {
            "text/plain": [
              "<Figure size 640x480 with 1 Axes>"
            ],
            "image/png": "[encoded data removed]"
          },
          "metadata": {}
        }
      ]
    }
  ]
}