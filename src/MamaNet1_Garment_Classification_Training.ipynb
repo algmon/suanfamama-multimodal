{
  "nbformat": 4,
  "nbformat_minor": 0,
  "metadata": {
    "colab": {
      "provenance": [],
      "gpuType": "T4"
    },
    "kernelspec": {
      "name": "python3",
      "display_name": "Python 3"
    },
    "language_info": {
      "name": "python"
    },
    "accelerator": "GPU"
  },
  "cells": [
    {
      "cell_type": "code",
      "source": [
        "# Simple Fashion Classifier via using MNIST and MamaNet1 (Garment Classification)\n",
        "\"\"\"\n",
        "This module is developed by Suanfamama.\n",
        "\n",
        "Authors:\n",
        "- Wei Jiang (wei@suanfamama.com)\n",
        "- Mama Xiao (mama.xiao@suanfamama.com)\n",
        "\n",
        "Reference:\n",
        "- Training with PyTorch\n",
        "- https://pytorch.org/tutorials/beginner/introyt/trainingyt.html?highlight=nn%20crossentropyloss\n",
        "\"\"\""
      ],
      "metadata": {
        "colab": {
          "base_uri": "https://localhost:8080/",
          "height": 71
        },
        "id": "Gi4yEmZG8YXw",
        "outputId": "b1c1f7dd-5d9e-446f-ec8f-793db4967ac4"
      },
      "execution_count": 27,
      "outputs": [
        {
          "output_type": "execute_result",
          "data": {
            "text/plain": [
              "'\\nThis module is developed by Suanfamama.\\n\\nAuthors:\\n- Wei Jiang (wei@suanfamama.com)\\n- Mama Xiao (mama.xiao@suanfamama.com)\\n\\nReference:\\n- Training with PyTorch\\n- https://pytorch.org/tutorials/beginner/introyt/trainingyt.html?highlight=nn%20crossentropyloss\\n'"
            ],
            "application/vnd.google.colaboratory.intrinsic+json": {
              "type": "string"
            }
          },
          "metadata": {},
          "execution_count": 27
        }
      ]
    },
    {
      "cell_type": "code",
      "source": [
        "import torch\n",
        "import torchvision\n",
        "import torchvision.transforms as transforms\n",
        "\n",
        "# PyTorch TensorBoard support\n",
        "from torch.utils.tensorboard import SummaryWriter\n",
        "from datetime import datetime\n",
        "\n",
        "transform = transforms.Compose(\n",
        "    [transforms.ToTensor(),\n",
        "    transforms.Normalize((0.5,), (0.5,))])\n",
        "\n",
        "# Create datasets for training & validation, download if necessary\n",
        "training_set = torchvision.datasets.FashionMNIST('./data', train=True, transform=transform, download=True)\n",
        "validation_set = torchvision.datasets.FashionMNIST('./data', train=False, transform=transform, download=True)\n",
        "\n",
        "# Create data loaders for our datasets; shuffle for training, not for validation\n",
        "training_loader = torch.utils.data.DataLoader(training_set, batch_size=4, shuffle=True)\n",
        "validation_loader = torch.utils.data.DataLoader(validation_set, batch_size=4, shuffle=False)\n",
        "\n",
        "# Class labels\n",
        "classes = ('T-shirt', 'Trouser裤子', 'Pullover套衫', 'Dress裙子', 'Coat大衣',\n",
        "        'Sandal拖鞋', 'Shirt衬衫', 'Sneaker运动鞋', 'Bag包', 'Ankle Boot靴子')\n",
        "\n",
        "# Report split sizes\n",
        "print('Training set has {} instances'.format(len(training_set)))\n",
        "print('Validation set has {} instances'.format(len(validation_set)))"
      ],
      "metadata": {
        "colab": {
          "base_uri": "https://localhost:8080/"
        },
        "id": "gwjw7gtl8eO6",
        "outputId": "c34a0fec-2df6-4b06-e50c-782f7edbc275"
      },
      "execution_count": 28,
      "outputs": [
        {
          "output_type": "stream",
          "name": "stdout",
          "text": [
            "Training set has 60000 instances\n",
            "Validation set has 10000 instances\n"
          ]
        }
      ]
    },
    {
      "cell_type": "code",
      "source": [
        "import matplotlib.pyplot as plt\n",
        "import numpy as np\n",
        "\n",
        "# Helper function for inline image display\n",
        "def matplotlib_imshow(img, one_channel=False):\n",
        "    if one_channel:\n",
        "        img = img.mean(dim=0)\n",
        "    img = img / 2 + 0.5     # unnormalize\n",
        "    npimg = img.numpy()\n",
        "    if one_channel:\n",
        "        plt.imshow(npimg, cmap=\"Greys\")\n",
        "    else:\n",
        "        plt.imshow(np.transpose(npimg, (1, 2, 0)))\n",
        "\n",
        "dataiter = iter(training_loader)\n",
        "images, labels = next(dataiter)\n",
        "\n",
        "# Create a grid from the images and show them\n",
        "img_grid = torchvision.utils.make_grid(images)\n",
        "matplotlib_imshow(img_grid, one_channel=True)\n",
        "print('  '.join(classes[labels[j]] for j in range(4)))"
      ],
      "metadata": {
        "colab": {
          "base_uri": "https://localhost:8080/",
          "height": 212
        },
        "id": "agYn33aQ9SBe",
        "outputId": "4b37394d-4502-4856-e386-9776fc431266"
      },
      "execution_count": 29,
      "outputs": [
        {
          "output_type": "stream",
          "name": "stdout",
          "text": [
            "Ankle Boot靴子  Shirt衬衫  Trouser裤子  Pullover套衫\n"
          ]
        },
        {
          "output_type": "display_data",
          "data": {
            "text/plain": [
              "<Figure size 640x480 with 1 Axes>"
            ],
            "image/png": "[encoded data removed]"
          },
          "metadata": {}
        }
      ]
    },
    {
      "cell_type": "code",
      "source": [
        "import torch.nn as nn\n",
        "import torch.nn.functional as F\n",
        "\n",
        "# PyTorch models inherit from torch.nn.Module\n",
        "class MamaNet1(nn.Module):\n",
        "    def __init__(self):\n",
        "        super(MamaNet1, self).__init__()\n",
        "        self.conv1 = nn.Conv2d(1, 6, 5)\n",
        "        self.pool = nn.MaxPool2d(2, 2)\n",
        "        self.conv2 = nn.Conv2d(6, 16, 5)\n",
        "        self.fc1 = nn.Linear(16 * 4 * 4, 120)\n",
        "        self.fc2 = nn.Linear(120, 84)\n",
        "        self.fc3 = nn.Linear(84, 10)\n",
        "\n",
        "    def forward(self, x):\n",
        "        x = self.pool(F.relu(self.conv1(x)))\n",
        "        x = self.pool(F.relu(self.conv2(x)))\n",
        "        x = x.view(-1, 16 * 4 * 4)\n",
        "        x = F.relu(self.fc1(x))\n",
        "        x = F.relu(self.fc2(x))\n",
        "        x = self.fc3(x)\n",
        "        return x\n",
        "\n",
        "\n",
        "model = MamaNet1()"
      ],
      "metadata": {
        "id": "HXjzDwmn9WxR"
      },
      "execution_count": 30,
      "outputs": []
    },
    {
      "cell_type": "code",
      "source": [
        "loss_fn = torch.nn.CrossEntropyLoss()\n",
        "\n",
        "# NB: Loss functions expect data in batches, so we're creating batches of 4\n",
        "# Represents the model's confidence in each of the 10 classes for a given input\n",
        "dummy_outputs = torch.rand(4, 10)\n",
        "# Represents the correct class among the 10 being tested\n",
        "dummy_labels = torch.tensor([1, 5, 3, 7])\n",
        "\n",
        "print(dummy_outputs)\n",
        "print(dummy_labels)\n",
        "\n",
        "loss = loss_fn(dummy_outputs, dummy_labels)\n",
        "print('Total loss for this batch: {}'.format(loss.item()))"
      ],
      "metadata": {
        "colab": {
          "base_uri": "https://localhost:8080/"
        },
        "id": "Qm7DjON5_EC_",
        "outputId": "38833266-3f59-414e-8bb8-07d2505dcafa"
      },
      "execution_count": 31,
      "outputs": [
        {
          "output_type": "stream",
          "name": "stdout",
          "text": [
            "tensor([[0.5485, 0.7683, 0.3454, 0.3769, 0.6439, 0.8107, 0.1724, 0.0062, 0.8270,\n",
            "         0.7843],\n",
            "        [0.0786, 0.6898, 0.4818, 0.5824, 0.4287, 0.9545, 0.5508, 0.8485, 0.6842,\n",
            "         0.0202],\n",
            "        [0.4862, 0.8087, 0.7052, 0.3607, 0.0788, 0.0985, 0.9911, 0.2691, 0.9437,\n",
            "         0.2372],\n",
            "        [0.2213, 0.8141, 0.4777, 0.5049, 0.5748, 0.1172, 0.5216, 0.9315, 0.7901,\n",
            "         0.6650]])\n",
            "tensor([1, 5, 3, 7])\n",
            "Total loss for this batch: 2.1179494857788086\n"
          ]
        }
      ]
    },
    {
      "cell_type": "code",
      "source": [
        "def train_one_epoch(epoch_index, tb_writer):\n",
        "    running_loss = 0.\n",
        "    last_loss = 0.\n",
        "\n",
        "    # Here, we use enumerate(training_loader) instead of\n",
        "    # iter(training_loader) so that we can track the batch\n",
        "    # index and do some intra-epoch reporting\n",
        "    for i, data in enumerate(training_loader):\n",
        "        # Every data instance is an input + label pair\n",
        "        inputs, labels = data\n",
        "\n",
        "        # Zero your gradients for every batch!\n",
        "        optimizer.zero_grad()\n",
        "\n",
        "        # Make predictions for this batch\n",
        "        outputs = model(inputs)\n",
        "\n",
        "        # Compute the loss and its gradients\n",
        "        loss = loss_fn(outputs, labels)\n",
        "        loss.backward()\n",
        "\n",
        "        # Adjust learning weights\n",
        "        optimizer.step()\n",
        "\n",
        "        # Gather data and report\n",
        "        running_loss += loss.item()\n",
        "        if i % 1000 == 999:\n",
        "            last_loss = running_loss / 1000 # loss per batch\n",
        "            print('  batch {} loss: {}'.format(i + 1, last_loss))\n",
        "            tb_x = epoch_index * len(training_loader) + i + 1\n",
        "            tb_writer.add_scalar('Loss/train', last_loss, tb_x)\n",
        "            running_loss = 0.\n",
        "\n",
        "    return last_loss"
      ],
      "metadata": {
        "id": "EtVxA73P_Mgt"
      },
      "execution_count": 32,
      "outputs": []
    },
    {
      "cell_type": "code",
      "source": [
        "# Initializing in a separate cell so we can easily add more epochs to the same run\n",
        "timestamp = datetime.now().strftime('%Y%m%d_%H%M%S')\n",
        "writer = SummaryWriter('runs/fashion_trainer_{}'.format(timestamp))\n",
        "epoch_number = 0\n",
        "\n",
        "EPOCHS = 5\n",
        "\n",
        "best_vloss = 1_000_000.\n",
        "\n",
        "for epoch in range(EPOCHS):\n",
        "    print('EPOCH {}:'.format(epoch_number + 1))\n",
        "\n",
        "    # Make sure gradient tracking is on, and do a pass over the data\n",
        "    model.train(True)\n",
        "    avg_loss = train_one_epoch(epoch_number, writer)\n",
        "\n",
        "\n",
        "    running_vloss = 0.0\n",
        "    # Set the model to evaluation mode, disabling dropout and using population\n",
        "    # statistics for batch normalization.\n",
        "    model.eval()\n",
        "\n",
        "    # Disable gradient computation and reduce memory consumption.\n",
        "    with torch.no_grad():\n",
        "        for i, vdata in enumerate(validation_loader):\n",
        "            vinputs, vlabels = vdata\n",
        "            voutputs = model(vinputs)\n",
        "            vloss = loss_fn(voutputs, vlabels)\n",
        "            running_vloss += vloss\n",
        "\n",
        "    avg_vloss = running_vloss / (i + 1)\n",
        "    print('LOSS train {} valid {}'.format(avg_loss, avg_vloss))\n",
        "\n",
        "    # Log the running loss averaged per batch\n",
        "    # for both training and validation\n",
        "    writer.add_scalars('Training vs. Validation Loss',\n",
        "                    { 'Training' : avg_loss, 'Validation' : avg_vloss },\n",
        "                    epoch_number + 1)\n",
        "    writer.flush()\n",
        "\n",
        "    # Track best performance, and save the model's state\n",
        "    if avg_vloss < best_vloss:\n",
        "        best_vloss = avg_vloss\n",
        "        model_path = 'model_{}_{}'.format(timestamp, epoch_number)\n",
        "        torch.save(model.state_dict(), model_path)\n",
        "\n",
        "    epoch_number += 1"
      ],
      "metadata": {
        "colab": {
          "base_uri": "https://localhost:8080/"
        },
        "id": "agMI_VL4_R5m",
        "outputId": "14069870-2449-4e88-d0ad-be76210e0e45"
      },
      "execution_count": 33,
      "outputs": [
        {
          "output_type": "stream",
          "name": "stdout",
          "text": [
            "EPOCH 1:\n",
            "  batch 1000 loss: 2.308486503124237\n",
            "  batch 2000 loss: 2.306666962862015\n",
            "  batch 3000 loss: 2.308485664129257\n",
            "  batch 4000 loss: 2.306562722682953\n",
            "  batch 5000 loss: 2.3074491751194\n",
            "  batch 6000 loss: 2.3070131552219393\n",
            "  batch 7000 loss: 2.306592314481735\n",
            "  batch 8000 loss: 2.305363685846329\n",
            "  batch 9000 loss: 2.307647428750992\n",
            "  batch 10000 loss: 2.3074215140342713\n",
            "  batch 11000 loss: 2.306654824972153\n",
            "  batch 12000 loss: 2.3053947763442992\n",
            "  batch 13000 loss: 2.3063714435100557\n",
            "  batch 14000 loss: 2.307096037864685\n",
            "  batch 15000 loss: 2.3075469677448273\n",
            "LOSS train 2.3075469677448273 valid 2.306988477706909\n",
            "EPOCH 2:\n",
            "  batch 1000 loss: 2.3067321128845215\n",
            "  batch 2000 loss: 2.307628496646881\n",
            "  batch 3000 loss: 2.3067675349712373\n",
            "  batch 4000 loss: 2.306414767742157\n",
            "  batch 5000 loss: 2.308210854053497\n",
            "  batch 6000 loss: 2.306331182718277\n",
            "  batch 7000 loss: 2.306460241317749\n",
            "  batch 8000 loss: 2.3070568709373473\n",
            "  batch 9000 loss: 2.306172536611557\n",
            "  batch 10000 loss: 2.30613769030571\n",
            "  batch 11000 loss: 2.305982668161392\n",
            "  batch 12000 loss: 2.307641276597977\n",
            "  batch 13000 loss: 2.308490071296692\n",
            "  batch 14000 loss: 2.307865932226181\n",
            "  batch 15000 loss: 2.3068609313964843\n",
            "LOSS train 2.3068609313964843 valid 2.306988477706909\n",
            "EPOCH 3:\n",
            "  batch 1000 loss: 2.306968475818634\n",
            "  batch 2000 loss: 2.3069244434833527\n",
            "  batch 3000 loss: 2.307349951028824\n",
            "  batch 4000 loss: 2.306011389017105\n",
            "  batch 5000 loss: 2.305651602268219\n",
            "  batch 6000 loss: 2.3071201269626616\n",
            "  batch 7000 loss: 2.3065482234954833\n",
            "  batch 8000 loss: 2.3066329629421234\n",
            "  batch 9000 loss: 2.3083943910598754\n",
            "  batch 10000 loss: 2.306837735414505\n",
            "  batch 11000 loss: 2.3076609606742857\n",
            "  batch 12000 loss: 2.3068424100875853\n",
            "  batch 13000 loss: 2.3069600756168365\n",
            "  batch 14000 loss: 2.3079621021747587\n",
            "  batch 15000 loss: 2.306888323545456\n",
            "LOSS train 2.306888323545456 valid 2.306988477706909\n",
            "EPOCH 4:\n",
            "  batch 1000 loss: 2.30824534201622\n",
            "  batch 2000 loss: 2.305404194831848\n",
            "  batch 3000 loss: 2.306292521715164\n",
            "  batch 4000 loss: 2.3083769266605376\n",
            "  batch 5000 loss: 2.3070006170272825\n",
            "  batch 6000 loss: 2.3056190273761747\n",
            "  batch 7000 loss: 2.306655788183212\n",
            "  batch 8000 loss: 2.307770409345627\n",
            "  batch 9000 loss: 2.3065441551208496\n",
            "  batch 10000 loss: 2.3079194247722628\n",
            "  batch 11000 loss: 2.307432181596756\n",
            "  batch 12000 loss: 2.3048837170600893\n",
            "  batch 13000 loss: 2.307983505964279\n",
            "  batch 14000 loss: 2.3070179505348207\n",
            "  batch 15000 loss: 2.307607407808304\n",
            "LOSS train 2.307607407808304 valid 2.306988477706909\n",
            "EPOCH 5:\n",
            "  batch 1000 loss: 2.306960697412491\n",
            "  batch 2000 loss: 2.307262342453003\n",
            "  batch 3000 loss: 2.3080610108375548\n",
            "  batch 4000 loss: 2.305836720228195\n",
            "  batch 5000 loss: 2.3087519903182985\n",
            "  batch 6000 loss: 2.3072564692497255\n",
            "  batch 7000 loss: 2.3063251655101777\n",
            "  batch 8000 loss: 2.3069036626815795\n",
            "  batch 9000 loss: 2.307615037441254\n",
            "  batch 10000 loss: 2.3084487228393553\n",
            "  batch 11000 loss: 2.3075478093624113\n",
            "  batch 12000 loss: 2.304745420217514\n",
            "  batch 13000 loss: 2.3060239040851593\n",
            "  batch 14000 loss: 2.306675764799118\n",
            "  batch 15000 loss: 2.306338446378708\n",
            "LOSS train 2.306338446378708 valid 2.306988477706909\n"
          ]
        }
      ]
    },
    {
      "cell_type": "code",
      "source": [
        "    # Save the model checkpoint\n",
        "    import os\n",
        "    model_save_dir = \"./\"  # Directory to save the models\n",
        "    model_path = os.path.join(model_save_dir, f'MamaNet1_Garment_Classification.pth')\n",
        "    torch.save(model.state_dict(), model_path)\n",
        "    print(f\"Model saved to {model_path}\")"
      ],
      "metadata": {
        "colab": {
          "base_uri": "https://localhost:8080/"
        },
        "id": "oweJ0koABEik",
        "outputId": "6584a37a-dcb7-4e4e-b773-a07ca9874614"
      },
      "execution_count": 34,
      "outputs": [
        {
          "output_type": "stream",
          "name": "stdout",
          "text": [
            "Model saved to ./MamaNet1_Garment_Classification.pth\n"
          ]
        }
      ]
    },
    {
      "cell_type": "code",
      "source": [],
      "metadata": {
        "id": "VOHXaPUMEqmv"
      },
      "execution_count": null,
      "outputs": []
    }
  ]
}